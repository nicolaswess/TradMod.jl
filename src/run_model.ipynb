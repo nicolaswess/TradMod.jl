{
 "cells": [
  {
   "cell_type": "markdown",
   "metadata": {},
   "source": [
    "## Example Project"
   ]
  },
  {
   "cell_type": "markdown",
   "metadata": {},
   "source": [
    "Below I show how the package works and verify that it yields credible results."
   ]
  },
  {
   "cell_type": "markdown",
   "metadata": {},
   "source": [
    "#### Load the package"
   ]
  },
  {
   "cell_type": "code",
   "execution_count": null,
   "metadata": {},
   "outputs": [],
   "source": [
    "using TradMod"
   ]
  },
  {
   "cell_type": "markdown",
   "metadata": {},
   "source": [
    "#### Load the data"
   ]
  },
  {
   "cell_type": "markdown",
   "metadata": {},
   "source": [
    "Here I load WIOD global input-output data freely available on their website: https://www.rug.nl/ggdc/valuechain/wiod/?lang=en\n",
    "\n",
    "I furthermore use existing estimates on sectoral trade elasticities originating from Caliendo and Parro (2010)."
   ]
  },
  {
   "cell_type": "code",
   "execution_count": null,
   "metadata": {},
   "outputs": [],
   "source": [
    "using DelimitedFiles\n",
    "cd(\"/Users/nicolaswesseler/Documents/github/ECON622/final_project\")\n",
    "DATA = readdlm(\"raw_data/WIOT08_ROW_Apr12.csv\", ',', Float64)\n",
    "epsilon = readdlm(\"raw_data/SECTORAL_TRADE_ELASTICITY.csv\");"
   ]
  },
  {
   "cell_type": "markdown",
   "metadata": {},
   "source": [
    "#### Run the model"
   ]
  },
  {
   "cell_type": "markdown",
   "metadata": {},
   "source": [
    "The package requires nothing but global input-output data as well as sector level trade elasticities. The user can then specify the country that introduces a tariff rate as well as the magnitude of the tariff rate. Below I conduct the counterfactual where the U.S. imposes a 40% tariff on all trade partners. "
   ]
  },
  {
   "cell_type": "code",
   "execution_count": null,
   "metadata": {},
   "outputs": [],
   "source": [
    "t = runTradMod(DATA,elast = epsilon,country = \"USA\",tariff = 0.4)"
   ]
  },
  {
   "cell_type": "markdown",
   "metadata": {},
   "source": [
    "The table shows the resulting welfare effects for 33 countries and a category called \"Rest of the World\" that summarizes the effects for a number of small countries. The results are identical to those published in Column 4 of Table 4.2 (page 230) in Costinot, A., & Rodríguez-Clare, A. (2014). The individual values can be accessed as follows: "
   ]
  },
  {
   "cell_type": "code",
   "execution_count": null,
   "metadata": {},
   "outputs": [],
   "source": [
    "t.Welfare_effect"
   ]
  },
  {
   "cell_type": "code",
   "execution_count": null,
   "metadata": {},
   "outputs": [],
   "source": [
    "CNTRY_INDX(\"XXX\")"
   ]
  },
  {
   "cell_type": "code",
   "execution_count": null,
   "metadata": {},
   "outputs": [],
   "source": [
    "using Test\n",
    "@test CNTRY_INDX(\"XXX\") == \"Error: country not found\""
   ]
  }
 ],
 "metadata": {
  "kernelspec": {
   "display_name": "Julia 1.8.0",
   "language": "julia",
   "name": "julia-1.8"
  },
  "language_info": {
   "file_extension": ".jl",
   "mimetype": "application/julia",
   "name": "julia",
   "version": "1.8.0"
  },
  "orig_nbformat": 4,
  "vscode": {
   "interpreter": {
    "hash": "31f2aee4e71d21fbe5cf8b01ff0e069b9275f58929596ceb00d14d90e3e16cd6"
   }
  }
 },
 "nbformat": 4,
 "nbformat_minor": 2
}
