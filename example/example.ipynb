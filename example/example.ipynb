{
 "cells": [
  {
   "cell_type": "markdown",
   "metadata": {},
   "source": [
    "## Example Project"
   ]
  },
  {
   "cell_type": "markdown",
   "metadata": {},
   "source": [
    "Below I show how the package works and verify that it yields correct results."
   ]
  },
  {
   "cell_type": "markdown",
   "metadata": {},
   "source": [
    "#### Load the package"
   ]
  },
  {
   "cell_type": "code",
   "execution_count": 1,
   "metadata": {},
   "outputs": [],
   "source": [
    "using TradMod"
   ]
  },
  {
   "cell_type": "markdown",
   "metadata": {},
   "source": [
    "#### Load the data"
   ]
  },
  {
   "cell_type": "markdown",
   "metadata": {},
   "source": [
    "Here I load WIOD global input-output data freely available on their website: https://www.rug.nl/ggdc/valuechain/wiod/?lang=en\n",
    "\n",
    "I furthermore use existing estimates on sectoral trade elasticities originating from Caliendo and Parro (2010)."
   ]
  },
  {
   "cell_type": "code",
   "execution_count": 7,
   "metadata": {},
   "outputs": [],
   "source": [
    "using DelimitedFiles\n",
    "#cd(\"/Users/nicolaswesseler/Documents/github/ECON622_final_project/TradMod.jl/data\")\n",
    "datadir = joinpath(pkgdir(TradMod),\"data\")\n",
    "DATA = readdlm(joinpath(datadir,\"WIOT08_ROW_Apr12.csv\"), ',', Float64)\n",
    "epsilon = readdlm(joinpath(datadir,\"SECTORAL_TRADE_ELASTICITY.csv\"));\n"
   ]
  },
  {
   "cell_type": "markdown",
   "metadata": {},
   "source": [
    "#### Run the model"
   ]
  },
  {
   "cell_type": "markdown",
   "metadata": {},
   "source": [
    "The package requires nothing but global input-output data as well as sector level trade elasticities. It then calculates counterfactual welfare changes (changes in real wages) based on changes in tariff rates. The user can specify the country that introduces a tariff rate as well as the magnitude of the tariff rate. Below I conduct a counterfactual where the U.S. imposes a 40% tariff on all trade partners."
   ]
  },
  {
   "cell_type": "code",
   "execution_count": 8,
   "metadata": {},
   "outputs": [],
   "source": [
    "t = runTradMod(DATA,elast = epsilon,country = \"USA\",tariff = 0.4)"
   ]
  },
  {
   "cell_type": "markdown",
   "metadata": {},
   "source": [
    "The table shows the resulting welfare effects for 33 countries and a category called \"Rest of the World\" that summarizes the effects for a number of small countries."
   ]
  },
  {
   "cell_type": "markdown",
   "metadata": {},
   "source": [
    "In addition to the tests I conduct in the package testing, I verify that a U.S. 40% tariff yields the same effects as in Column 4 of Table 4.2 (page 230) in Costinot, A., & Rodríguez-Clare, A. (2014).\n",
    " \n",
    "Note: I changed the welfare effect for Russia from -0.12 to -0.13 (I suspect it's a typo in the publication)"
   ]
  },
  {
   "cell_type": "code",
   "execution_count": 5,
   "metadata": {},
   "outputs": [
    {
     "data": {
      "text/plain": [
       "\u001b[32m\u001b[1mTest Passed\u001b[22m\u001b[39m"
      ]
     },
     "execution_count": 5,
     "metadata": {},
     "output_type": "execute_result"
    }
   ],
   "source": [
    "using Test\n",
    "costclar = [-.28; -.13; -.26; -.16; -2.28; -.46; -.08; -.2; -.26; -.07; -.1; -.13; -.31; -.06; -.17; -.14; -.25; -1.58; -.07; -.11; -.34; -1.67; -.34; -.08; -.09; .01; -.13; -.04; -.1; -.19; -.02; -.76; .63; -.97]\n",
    "\n",
    "@test costclar == round.(t.Welfare_effect;digits = 2)"
   ]
  },
  {
   "cell_type": "markdown",
   "metadata": {},
   "source": [
    "The results are identical."
   ]
  }
 ],
 "metadata": {
  "kernelspec": {
   "display_name": "Julia 1.8.3",
   "language": "julia",
   "name": "julia-1.8"
  },
  "language_info": {
   "file_extension": ".jl",
   "mimetype": "application/julia",
   "name": "julia",
   "version": "1.8.3"
  },
  "orig_nbformat": 4,
  "vscode": {
   "interpreter": {
    "hash": "31f2aee4e71d21fbe5cf8b01ff0e069b9275f58929596ceb00d14d90e3e16cd6"
   }
  }
 },
 "nbformat": 4,
 "nbformat_minor": 2
}
