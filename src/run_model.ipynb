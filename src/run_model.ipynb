{
 "cells": [
  {
   "cell_type": "markdown",
   "metadata": {},
   "source": [
    "## Example Project"
   ]
  },
  {
   "cell_type": "markdown",
   "metadata": {},
   "source": [
    "Below I show how the package works and verify that it yields interpretable output."
   ]
  },
  {
   "cell_type": "markdown",
   "metadata": {},
   "source": [
    "#### Load the package"
   ]
  },
  {
   "cell_type": "code",
   "execution_count": 1,
   "metadata": {},
   "outputs": [],
   "source": [
    "using TradMod"
   ]
  },
  {
   "cell_type": "markdown",
   "metadata": {},
   "source": [
    "#### Load the data"
   ]
  },
  {
   "cell_type": "markdown",
   "metadata": {},
   "source": [
    "Here I load WIOD global input-output data freely available on their website: https://www.rug.nl/ggdc/valuechain/wiod/?lang=en\n",
    "\n",
    "I furthermore use existing estimates on sectoral trade elasticities originating from Caliendo and Parro (2010)."
   ]
  },
  {
   "cell_type": "code",
   "execution_count": 2,
   "metadata": {},
   "outputs": [],
   "source": [
    "using DelimitedFiles\n",
    "cd(\"/Users/nicolaswesseler/Documents/github/ECON622/final_project\")\n",
    "DATA = readdlm(\"raw_data/WIOT08_ROW_Apr12.csv\", ',', Float64)\n",
    "epsilon = readdlm(\"raw_data/SECTORAL_TRADE_ELASTICITY.csv\");"
   ]
  },
  {
   "cell_type": "markdown",
   "metadata": {},
   "source": [
    "#### Run the model"
   ]
  },
  {
   "cell_type": "markdown",
   "metadata": {},
   "source": [
    "The package requires nothing but global input-output data as well as sector level trade elasticities. The user can then specify the country that introduces a tariff rate as well as the magnitude of the tariff rate. Below I conduct the counterfactual where the U.S. imposes a 40% tariff on all trade partners."
   ]
  },
  {
   "cell_type": "code",
   "execution_count": 3,
   "metadata": {},
   "outputs": [
    {
     "data": {
      "text/plain": [
       "Table with 2 columns and 34 rows:\n",
       "      Country  Welfare_effect\n",
       "    ┌────────────────────────\n",
       " 1  │ AUS      -0.283031\n",
       " 2  │ AUT      -0.1318\n",
       " 3  │ BEL      -0.256084\n",
       " 4  │ BRA      -0.158406\n",
       " 5  │ CAN      -2.27642\n",
       " 6  │ CHN      -0.459308\n",
       " 7  │ CZE      -0.0783826\n",
       " 8  │ DEU      -0.203565\n",
       " 9  │ DNK      -0.260493\n",
       " 10 │ ESP      -0.0711924\n",
       " 11 │ FIN      -0.0979161\n",
       " 12 │ FRA      -0.127959\n",
       " 13 │ GBR      -0.308883\n",
       " 14 │ GRC      -0.0629793\n",
       " 15 │ HUN      -0.167492\n",
       " 16 │ IDN      -0.139234\n",
       " 17 │ IND      -0.252024\n",
       " ⋮  │    ⋮           ⋮"
      ]
     },
     "metadata": {},
     "output_type": "display_data"
    }
   ],
   "source": [
    "t = runTradMod(DATA,elast = epsilon,country = \"USA\",tariff = 0.4)"
   ]
  },
  {
   "cell_type": "markdown",
   "metadata": {},
   "source": [
    "The table shows the resulting welfare effects for 33 countries and a category called \"Rest of the World\" that summarizes the effects for a number of small countries. The results are identical to those published in Column 4 of Table 4.2 (page 230) in Costinot, A., & Rodríguez-Clare, A. (2014). The individual values can be accessed as follows: "
   ]
  },
  {
   "cell_type": "code",
   "execution_count": 18,
   "metadata": {},
   "outputs": [
    {
     "data": {
      "text/plain": [
       "34-element Vector{Float64}:\n",
       " -0.2830310663504254\n",
       " -0.13180001536665653\n",
       " -0.2560835544113571\n",
       " -0.158406479022144\n",
       " -2.2764207930614955\n",
       " -0.459308419571125\n",
       " -0.0783826347257155\n",
       " -0.20356509177904547\n",
       " -0.260493057007094\n",
       " -0.07119242467147346\n",
       "  ⋮\n",
       "  0.006569971506364958\n",
       " -0.12500079447225199\n",
       " -0.04278813870589593\n",
       " -0.09777899603795603\n",
       " -0.1942689802060027\n",
       " -0.019411998474727632\n",
       " -0.7598090767704013\n",
       "  0.6320538921637864\n",
       " -0.9670507174129317"
      ]
     },
     "metadata": {},
     "output_type": "display_data"
    }
   ],
   "source": [
    "t.Welfare_effect"
   ]
  }
 ],
 "metadata": {
  "kernelspec": {
   "display_name": "Julia 1.8.0",
   "language": "julia",
   "name": "julia-1.8"
  },
  "language_info": {
   "file_extension": ".jl",
   "mimetype": "application/julia",
   "name": "julia",
   "version": "1.8.0"
  },
  "orig_nbformat": 4,
  "vscode": {
   "interpreter": {
    "hash": "31f2aee4e71d21fbe5cf8b01ff0e069b9275f58929596ceb00d14d90e3e16cd6"
   }
  }
 },
 "nbformat": 4,
 "nbformat_minor": 2
}
